{
 "cells": [
  {
   "cell_type": "markdown",
   "id": "c4b5e8d0",
   "metadata": {},
   "source": [
    "# Automatic File Sorter in File Explorer"
   ]
  },
  {
   "cell_type": "code",
   "execution_count": null,
   "id": "e15bd073",
   "metadata": {},
   "outputs": [],
   "source": [
    "import os, shutil"
   ]
  },
  {
   "cell_type": "code",
   "execution_count": null,
   "id": "82ec345a",
   "metadata": {},
   "outputs": [],
   "source": [
    "path = r\"C:\\Users\\user\\Desktop\\Jupyter\\Automatic File Sorter\\\\\""
   ]
  },
  {
   "cell_type": "code",
   "execution_count": null,
   "id": "cfadec3b",
   "metadata": {},
   "outputs": [],
   "source": [
    "file_name = os.listdir(path)"
   ]
  },
  {
   "cell_type": "code",
   "execution_count": null,
   "id": "32907c88",
   "metadata": {},
   "outputs": [],
   "source": [
    "folder_names = ['csv files', 'image files', 'text files']\n",
    "not_moved_files = []\n",
    "\n",
    "for loop in range(0,3):\n",
    "    if not os.path.exists(path + folder_names[loop]):\n",
    "        print(path + folder_names[loop])\n",
    "        os.makedirs(path + folder_names[loop])"
   ]
  },
  {
   "cell_type": "code",
   "execution_count": null,
   "id": "7b7c4c40",
   "metadata": {},
   "outputs": [],
   "source": [
    "for file in file_name:\n",
    "    if \".csv\" in file and not os.path.exists(path + \"csv files\\\\\" + file):\n",
    "        shutil.move(path + file, path + \"csv files\\\\\" + file)\n",
    "    elif \".png\" in file and not os.path.exists(path + \"image files\\\\\" + file):\n",
    "        shutil.move(path + file, path + \"image files\\\\\" + file)\n",
    "    elif \".txt\" in file and not os.path.exists(path + \"text files\\\\\" + file):\n",
    "        shutil.move(path + file, path + \"text files\\\\\" + file)\n",
    "    else:\n",
    "        not_moved_files.append(file)\n",
    "\n",
    "if not_moved_files:\n",
    "    print(\"The following files were not moved:\")\n",
    "    for file in not_moved_files:\n",
    "        print(file)\n",
    "else:\n",
    "    print(\"All files were moved successfully\")"
   ]
  },
  {
   "cell_type": "markdown",
   "id": "30ba292e",
   "metadata": {},
   "source": [
    "# Repractice"
   ]
  },
  {
   "cell_type": "code",
   "execution_count": 1,
   "id": "509486fe",
   "metadata": {},
   "outputs": [],
   "source": [
    "import os, shutil"
   ]
  },
  {
   "cell_type": "code",
   "execution_count": 5,
   "id": "8698b8de",
   "metadata": {},
   "outputs": [],
   "source": [
    "path = r\"C:\\Users\\user\\Desktop\\Jupyter\\Automatic File Sorter\\\\\""
   ]
  },
  {
   "cell_type": "code",
   "execution_count": 7,
   "id": "cdb9f24a",
   "metadata": {},
   "outputs": [],
   "source": [
    "file_name = os.listdir(path)"
   ]
  },
  {
   "cell_type": "code",
   "execution_count": 12,
   "id": "91921ef1",
   "metadata": {},
   "outputs": [],
   "source": [
    "folder_names = ['csv files', 'image files', 'text files']\n",
    "not_moved_files = []"
   ]
  },
  {
   "cell_type": "code",
   "execution_count": 14,
   "id": "c4516b3a",
   "metadata": {},
   "outputs": [
    {
     "name": "stdout",
     "output_type": "stream",
     "text": [
      "C:\\Users\\user\\Desktop\\Jupyter\\Automatic File Sorter\\\\csv files\n",
      "C:\\Users\\user\\Desktop\\Jupyter\\Automatic File Sorter\\\\image files\n",
      "C:\\Users\\user\\Desktop\\Jupyter\\Automatic File Sorter\\\\text files\n"
     ]
    }
   ],
   "source": [
    "for loop in range(0,3):\n",
    "    if not os.path.exists(path + folder_names[loop]):\n",
    "        print(path + folder_names[loop])\n",
    "        os.makedirs(path + folder_names[loop])\n"
   ]
  },
  {
   "cell_type": "code",
   "execution_count": 16,
   "id": "2e3e71e9",
   "metadata": {},
   "outputs": [
    {
     "name": "stdout",
     "output_type": "stream",
     "text": [
      "The files that were not moved: \n",
      "desktop.ini\n",
      "Book1.csv\n",
      "desktop.ini\n",
      "grapes.png\n",
      "Testing automatic file sorter.txt\n"
     ]
    }
   ],
   "source": [
    "for file in file_name:\n",
    "    if '.csv' in file and not os.path.exists(path + \"csv files\\\\\" + file):\n",
    "        shutil.move(path + file, path + \"csv files\\\\\" + file)\n",
    "    elif '.png' in file and not os.path.exists(path + \"image files\\\\\" + file):\n",
    "        shutil.move(path + file, path + \"image files\\\\\" + file)\n",
    "    elif '.txt' in file and not os.path.exists(path + \"text files\\\\\" + file):\n",
    "        shutil.move(path + file, path + \"text files\\\\\" + file)\n",
    "    else:\n",
    "        not_moved_files.append(file)\n",
    "        \n",
    "if not_moved_files:\n",
    "    print(\"The files that were not moved: \")\n",
    "    for file in not_moved_files:\n",
    "        print(file)\n",
    "else:\n",
    "    print(\"All files were moved succesfully!\")"
   ]
  },
  {
   "cell_type": "code",
   "execution_count": null,
   "id": "36c44425",
   "metadata": {},
   "outputs": [],
   "source": []
  }
 ],
 "metadata": {
  "kernelspec": {
   "display_name": "Python 3 (ipykernel)",
   "language": "python",
   "name": "python3"
  },
  "language_info": {
   "codemirror_mode": {
    "name": "ipython",
    "version": 3
   },
   "file_extension": ".py",
   "mimetype": "text/x-python",
   "name": "python",
   "nbconvert_exporter": "python",
   "pygments_lexer": "ipython3",
   "version": "3.11.7"
  }
 },
 "nbformat": 4,
 "nbformat_minor": 5
}
